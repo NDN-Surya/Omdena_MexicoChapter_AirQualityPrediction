{
 "cells": [
  {
   "cell_type": "code",
   "execution_count": 1,
   "id": "e553a01a-2d7f-41db-9f98-aac6ddc9babc",
   "metadata": {},
   "outputs": [],
   "source": [
    "import pandas as pd\n",
    "import numpy as np"
   ]
  },
  {
   "cell_type": "code",
   "execution_count": 4,
   "id": "0539ab51-388c-449e-94e4-118654e22572",
   "metadata": {},
   "outputs": [],
   "source": [
    "df_traf_MER=pd.read_csv('raw_traffic_MER.csv')"
   ]
  },
  {
   "cell_type": "code",
   "execution_count": 5,
   "id": "002e9a55-0873-4ff7-b2ce-fa5b2ae1356e",
   "metadata": {},
   "outputs": [
    {
     "data": {
      "text/html": [
       "<div>\n",
       "<style scoped>\n",
       "    .dataframe tbody tr th:only-of-type {\n",
       "        vertical-align: middle;\n",
       "    }\n",
       "\n",
       "    .dataframe tbody tr th {\n",
       "        vertical-align: top;\n",
       "    }\n",
       "\n",
       "    .dataframe thead th {\n",
       "        text-align: right;\n",
       "    }\n",
       "</style>\n",
       "<table border=\"1\" class=\"dataframe\">\n",
       "  <thead>\n",
       "    <tr style=\"text-align: right;\">\n",
       "      <th></th>\n",
       "      <th>type</th>\n",
       "      <th>road_type</th>\n",
       "      <th>traffic_level</th>\n",
       "      <th>traffic_road_coverage</th>\n",
       "      <th>road_closure</th>\n",
       "      <th>road_category</th>\n",
       "      <th>road_subcategory</th>\n",
       "      <th>left_hand_traffic</th>\n",
       "      <th>coordinates</th>\n",
       "      <th>date</th>\n",
       "      <th>time</th>\n",
       "      <th>station</th>\n",
       "    </tr>\n",
       "  </thead>\n",
       "  <tbody>\n",
       "    <tr>\n",
       "      <th>0</th>\n",
       "      <td>LINESTRING</td>\n",
       "      <td>NaN</td>\n",
       "      <td>0.559</td>\n",
       "      <td>full</td>\n",
       "      <td>NaN</td>\n",
       "      <td>primary</td>\n",
       "      <td>NaN</td>\n",
       "      <td>NaN</td>\n",
       "      <td>[[19.424477059181264, -99.12001624703407], [19...</td>\n",
       "      <td>04/03/2024</td>\n",
       "      <td>10:35:26</td>\n",
       "      <td>MER</td>\n",
       "    </tr>\n",
       "    <tr>\n",
       "      <th>1</th>\n",
       "      <td>LINESTRING</td>\n",
       "      <td>NaN</td>\n",
       "      <td>0.409</td>\n",
       "      <td>full</td>\n",
       "      <td>NaN</td>\n",
       "      <td>primary</td>\n",
       "      <td>NaN</td>\n",
       "      <td>NaN</td>\n",
       "      <td>[[19.424477059181264, -99.12001624703407], [19...</td>\n",
       "      <td>04/03/2024</td>\n",
       "      <td>10:04:30</td>\n",
       "      <td>MER</td>\n",
       "    </tr>\n",
       "    <tr>\n",
       "      <th>2</th>\n",
       "      <td>LINESTRING</td>\n",
       "      <td>NaN</td>\n",
       "      <td>0.105</td>\n",
       "      <td>full</td>\n",
       "      <td>NaN</td>\n",
       "      <td>primary</td>\n",
       "      <td>NaN</td>\n",
       "      <td>NaN</td>\n",
       "      <td>[[19.424477059181264, -99.12001624703407], [19...</td>\n",
       "      <td>04/03/2024</td>\n",
       "      <td>11:34:55</td>\n",
       "      <td>MER</td>\n",
       "    </tr>\n",
       "    <tr>\n",
       "      <th>3</th>\n",
       "      <td>LINESTRING</td>\n",
       "      <td>NaN</td>\n",
       "      <td>0.532</td>\n",
       "      <td>full</td>\n",
       "      <td>NaN</td>\n",
       "      <td>primary</td>\n",
       "      <td>NaN</td>\n",
       "      <td>NaN</td>\n",
       "      <td>[[19.424477059181264, -99.12001624703407], [19...</td>\n",
       "      <td>04/03/2024</td>\n",
       "      <td>11:48:24</td>\n",
       "      <td>MER</td>\n",
       "    </tr>\n",
       "    <tr>\n",
       "      <th>4</th>\n",
       "      <td>LINESTRING</td>\n",
       "      <td>NaN</td>\n",
       "      <td>0.527</td>\n",
       "      <td>full</td>\n",
       "      <td>NaN</td>\n",
       "      <td>primary</td>\n",
       "      <td>NaN</td>\n",
       "      <td>NaN</td>\n",
       "      <td>[[19.424477059181264, -99.12001624703407], [19...</td>\n",
       "      <td>04/03/2024</td>\n",
       "      <td>11:05:11</td>\n",
       "      <td>MER</td>\n",
       "    </tr>\n",
       "  </tbody>\n",
       "</table>\n",
       "</div>"
      ],
      "text/plain": [
       "         type  road_type  traffic_level traffic_road_coverage  road_closure  \\\n",
       "0  LINESTRING        NaN          0.559                  full           NaN   \n",
       "1  LINESTRING        NaN          0.409                  full           NaN   \n",
       "2  LINESTRING        NaN          0.105                  full           NaN   \n",
       "3  LINESTRING        NaN          0.532                  full           NaN   \n",
       "4  LINESTRING        NaN          0.527                  full           NaN   \n",
       "\n",
       "  road_category  road_subcategory  left_hand_traffic  \\\n",
       "0       primary               NaN                NaN   \n",
       "1       primary               NaN                NaN   \n",
       "2       primary               NaN                NaN   \n",
       "3       primary               NaN                NaN   \n",
       "4       primary               NaN                NaN   \n",
       "\n",
       "                                         coordinates        date      time  \\\n",
       "0  [[19.424477059181264, -99.12001624703407], [19...  04/03/2024  10:35:26   \n",
       "1  [[19.424477059181264, -99.12001624703407], [19...  04/03/2024  10:04:30   \n",
       "2  [[19.424477059181264, -99.12001624703407], [19...  04/03/2024  11:34:55   \n",
       "3  [[19.424477059181264, -99.12001624703407], [19...  04/03/2024  11:48:24   \n",
       "4  [[19.424477059181264, -99.12001624703407], [19...  04/03/2024  11:05:11   \n",
       "\n",
       "  station  \n",
       "0     MER  \n",
       "1     MER  \n",
       "2     MER  \n",
       "3     MER  \n",
       "4     MER  "
      ]
     },
     "execution_count": 5,
     "metadata": {},
     "output_type": "execute_result"
    }
   ],
   "source": [
    "df_traf_MER.head()"
   ]
  },
  {
   "cell_type": "code",
   "execution_count": 7,
   "id": "f6afaea3-48c9-4f01-b792-e0a440e3660f",
   "metadata": {},
   "outputs": [
    {
     "data": {
      "text/plain": [
       "(5894, 12)"
      ]
     },
     "execution_count": 7,
     "metadata": {},
     "output_type": "execute_result"
    }
   ],
   "source": [
    "df_traf_MER.shape"
   ]
  },
  {
   "cell_type": "markdown",
   "id": "ec8f4e9b-e221-4f89-a050-4af3b632d9c8",
   "metadata": {},
   "source": [
    "## HANDLING NULL VALUES "
   ]
  },
  {
   "cell_type": "code",
   "execution_count": 9,
   "id": "aa11895d-0a3c-4f75-81dc-cda883673e50",
   "metadata": {},
   "outputs": [
    {
     "data": {
      "text/plain": [
       "type                        0\n",
       "road_type                5894\n",
       "traffic_level               0\n",
       "traffic_road_coverage       0\n",
       "road_closure             5894\n",
       "road_category               0\n",
       "road_subcategory         5894\n",
       "left_hand_traffic        5894\n",
       "coordinates                 0\n",
       "date                        0\n",
       "time                        0\n",
       "station                     0\n",
       "dtype: int64"
      ]
     },
     "execution_count": 9,
     "metadata": {},
     "output_type": "execute_result"
    }
   ],
   "source": [
    "df_traf_MER.isnull().sum()"
   ]
  },
  {
   "cell_type": "code",
   "execution_count": 13,
   "id": "fe245e71-5ab0-4f5a-836c-d53c4d42fd2c",
   "metadata": {},
   "outputs": [],
   "source": [
    "df_traf_MER.drop(['road_type', 'road_closure','road_subcategory','left_hand_traffic'], axis=1, inplace=True)\n"
   ]
  },
  {
   "cell_type": "code",
   "execution_count": 14,
   "id": "80e4bd4f-132c-45c6-8b80-7c8af45c5e05",
   "metadata": {},
   "outputs": [
    {
     "data": {
      "text/html": [
       "<div>\n",
       "<style scoped>\n",
       "    .dataframe tbody tr th:only-of-type {\n",
       "        vertical-align: middle;\n",
       "    }\n",
       "\n",
       "    .dataframe tbody tr th {\n",
       "        vertical-align: top;\n",
       "    }\n",
       "\n",
       "    .dataframe thead th {\n",
       "        text-align: right;\n",
       "    }\n",
       "</style>\n",
       "<table border=\"1\" class=\"dataframe\">\n",
       "  <thead>\n",
       "    <tr style=\"text-align: right;\">\n",
       "      <th></th>\n",
       "      <th>type</th>\n",
       "      <th>traffic_level</th>\n",
       "      <th>traffic_road_coverage</th>\n",
       "      <th>road_category</th>\n",
       "      <th>coordinates</th>\n",
       "      <th>date</th>\n",
       "      <th>time</th>\n",
       "      <th>station</th>\n",
       "    </tr>\n",
       "  </thead>\n",
       "  <tbody>\n",
       "    <tr>\n",
       "      <th>0</th>\n",
       "      <td>LINESTRING</td>\n",
       "      <td>0.559</td>\n",
       "      <td>full</td>\n",
       "      <td>primary</td>\n",
       "      <td>[[19.424477059181264, -99.12001624703407], [19...</td>\n",
       "      <td>04/03/2024</td>\n",
       "      <td>10:35:26</td>\n",
       "      <td>MER</td>\n",
       "    </tr>\n",
       "    <tr>\n",
       "      <th>1</th>\n",
       "      <td>LINESTRING</td>\n",
       "      <td>0.409</td>\n",
       "      <td>full</td>\n",
       "      <td>primary</td>\n",
       "      <td>[[19.424477059181264, -99.12001624703407], [19...</td>\n",
       "      <td>04/03/2024</td>\n",
       "      <td>10:04:30</td>\n",
       "      <td>MER</td>\n",
       "    </tr>\n",
       "    <tr>\n",
       "      <th>2</th>\n",
       "      <td>LINESTRING</td>\n",
       "      <td>0.105</td>\n",
       "      <td>full</td>\n",
       "      <td>primary</td>\n",
       "      <td>[[19.424477059181264, -99.12001624703407], [19...</td>\n",
       "      <td>04/03/2024</td>\n",
       "      <td>11:34:55</td>\n",
       "      <td>MER</td>\n",
       "    </tr>\n",
       "    <tr>\n",
       "      <th>3</th>\n",
       "      <td>LINESTRING</td>\n",
       "      <td>0.532</td>\n",
       "      <td>full</td>\n",
       "      <td>primary</td>\n",
       "      <td>[[19.424477059181264, -99.12001624703407], [19...</td>\n",
       "      <td>04/03/2024</td>\n",
       "      <td>11:48:24</td>\n",
       "      <td>MER</td>\n",
       "    </tr>\n",
       "    <tr>\n",
       "      <th>4</th>\n",
       "      <td>LINESTRING</td>\n",
       "      <td>0.527</td>\n",
       "      <td>full</td>\n",
       "      <td>primary</td>\n",
       "      <td>[[19.424477059181264, -99.12001624703407], [19...</td>\n",
       "      <td>04/03/2024</td>\n",
       "      <td>11:05:11</td>\n",
       "      <td>MER</td>\n",
       "    </tr>\n",
       "  </tbody>\n",
       "</table>\n",
       "</div>"
      ],
      "text/plain": [
       "         type  traffic_level traffic_road_coverage road_category  \\\n",
       "0  LINESTRING          0.559                  full       primary   \n",
       "1  LINESTRING          0.409                  full       primary   \n",
       "2  LINESTRING          0.105                  full       primary   \n",
       "3  LINESTRING          0.532                  full       primary   \n",
       "4  LINESTRING          0.527                  full       primary   \n",
       "\n",
       "                                         coordinates        date      time  \\\n",
       "0  [[19.424477059181264, -99.12001624703407], [19...  04/03/2024  10:35:26   \n",
       "1  [[19.424477059181264, -99.12001624703407], [19...  04/03/2024  10:04:30   \n",
       "2  [[19.424477059181264, -99.12001624703407], [19...  04/03/2024  11:34:55   \n",
       "3  [[19.424477059181264, -99.12001624703407], [19...  04/03/2024  11:48:24   \n",
       "4  [[19.424477059181264, -99.12001624703407], [19...  04/03/2024  11:05:11   \n",
       "\n",
       "  station  \n",
       "0     MER  \n",
       "1     MER  \n",
       "2     MER  \n",
       "3     MER  \n",
       "4     MER  "
      ]
     },
     "execution_count": 14,
     "metadata": {},
     "output_type": "execute_result"
    }
   ],
   "source": [
    "df_traf_MER.head()"
   ]
  },
  {
   "cell_type": "markdown",
   "id": "121ebd56-fca8-43b1-9eef-34ea9f86e09d",
   "metadata": {},
   "source": [
    "## VERIFYING CATEGORY COLOUMNS"
   ]
  },
  {
   "cell_type": "code",
   "execution_count": 23,
   "id": "0d323611-32b7-46f9-be38-5a7347d387e4",
   "metadata": {},
   "outputs": [
    {
     "data": {
      "text/plain": [
       "array(['LINESTRING'], dtype=object)"
      ]
     },
     "execution_count": 23,
     "metadata": {},
     "output_type": "execute_result"
    }
   ],
   "source": [
    "df_traf_MER['type'].unique()"
   ]
  },
  {
   "cell_type": "code",
   "execution_count": 22,
   "id": "5af6928c-e8f4-4300-bbbe-eda2a79b5c4c",
   "metadata": {},
   "outputs": [
    {
     "name": "stdout",
     "output_type": "stream",
     "text": [
      "Unique values in 'type': ['LINESTRING']\n",
      "Unique values in 'traffic_road_coverage': ['full']\n",
      "Unique values in 'road_category': ['primary']\n"
     ]
    }
   ],
   "source": [
    "# Get unique values from each of the columns separately\n",
    "unique_type = df_traf_MER['type'].unique()\n",
    "unique_traffic_road_coverage = df_traf_MER['traffic_road_coverage'].unique()\n",
    "unique_road_category = df_traf_MER['road_category'].unique()\n",
    "\n",
    "# Display the unique values\n",
    "print(\"Unique values in 'type':\", unique_type)\n",
    "print(\"Unique values in 'traffic_road_coverage':\", unique_traffic_road_coverage)\n",
    "print(\"Unique values in 'road_category':\", unique_road_category)\n"
   ]
  },
  {
   "cell_type": "markdown",
   "id": "9dad2695-c86f-4f5d-9fd2-3266002d9418",
   "metadata": {},
   "source": [
    "## OUTLIERS"
   ]
  },
  {
   "cell_type": "code",
   "execution_count": 19,
   "id": "73d05949-c58c-4983-82f7-cd7d06180930",
   "metadata": {},
   "outputs": [
    {
     "data": {
      "image/png": "[encoded data removed]",
      "text/plain": [
       "<Figure size 640x480 with 1 Axes>"
      ]
     },
     "metadata": {},
     "output_type": "display_data"
    }
   ],
   "source": [
    "numeric_columns = df_traf_MER.select_dtypes(include=['float64', 'int64']).columns\n",
    "\n",
    "import seaborn as sns \n",
    "import matplotlib.pyplot as plt\n",
    "\n",
    "for col in numeric_columns:\n",
    "   sns.boxplot(x=df_traf_MER[col])\n",
    "   plt.show()  \n",
    "\n"
   ]
  },
  {
   "cell_type": "code",
   "execution_count": 26,
   "id": "2562d20e-b241-472b-a172-3e023564a455",
   "metadata": {},
   "outputs": [
    {
     "data": {
      "text/html": [
       "<div>\n",
       "<style scoped>\n",
       "    .dataframe tbody tr th:only-of-type {\n",
       "        vertical-align: middle;\n",
       "    }\n",
       "\n",
       "    .dataframe tbody tr th {\n",
       "        vertical-align: top;\n",
       "    }\n",
       "\n",
       "    .dataframe thead th {\n",
       "        text-align: right;\n",
       "    }\n",
       "</style>\n",
       "<table border=\"1\" class=\"dataframe\">\n",
       "  <thead>\n",
       "    <tr style=\"text-align: right;\">\n",
       "      <th></th>\n",
       "      <th>type</th>\n",
       "      <th>traffic_level</th>\n",
       "      <th>traffic_road_coverage</th>\n",
       "      <th>road_category</th>\n",
       "      <th>coordinates</th>\n",
       "      <th>date</th>\n",
       "      <th>time</th>\n",
       "      <th>station</th>\n",
       "    </tr>\n",
       "  </thead>\n",
       "  <tbody>\n",
       "    <tr>\n",
       "      <th>0</th>\n",
       "      <td>LINESTRING</td>\n",
       "      <td>0.559</td>\n",
       "      <td>full</td>\n",
       "      <td>primary</td>\n",
       "      <td>[[19.424477059181264, -99.12001624703407], [19...</td>\n",
       "      <td>04/03/2024</td>\n",
       "      <td>10:35:26</td>\n",
       "      <td>MER</td>\n",
       "    </tr>\n",
       "    <tr>\n",
       "      <th>1</th>\n",
       "      <td>LINESTRING</td>\n",
       "      <td>0.409</td>\n",
       "      <td>full</td>\n",
       "      <td>primary</td>\n",
       "      <td>[[19.424477059181264, -99.12001624703407], [19...</td>\n",
       "      <td>04/03/2024</td>\n",
       "      <td>10:04:30</td>\n",
       "      <td>MER</td>\n",
       "    </tr>\n",
       "    <tr>\n",
       "      <th>2</th>\n",
       "      <td>LINESTRING</td>\n",
       "      <td>0.409</td>\n",
       "      <td>full</td>\n",
       "      <td>primary</td>\n",
       "      <td>[[19.424477059181264, -99.12001624703407], [19...</td>\n",
       "      <td>04/03/2024</td>\n",
       "      <td>11:34:55</td>\n",
       "      <td>MER</td>\n",
       "    </tr>\n",
       "    <tr>\n",
       "      <th>3</th>\n",
       "      <td>LINESTRING</td>\n",
       "      <td>0.532</td>\n",
       "      <td>full</td>\n",
       "      <td>primary</td>\n",
       "      <td>[[19.424477059181264, -99.12001624703407], [19...</td>\n",
       "      <td>04/03/2024</td>\n",
       "      <td>11:48:24</td>\n",
       "      <td>MER</td>\n",
       "    </tr>\n",
       "    <tr>\n",
       "      <th>4</th>\n",
       "      <td>LINESTRING</td>\n",
       "      <td>0.527</td>\n",
       "      <td>full</td>\n",
       "      <td>primary</td>\n",
       "      <td>[[19.424477059181264, -99.12001624703407], [19...</td>\n",
       "      <td>04/03/2024</td>\n",
       "      <td>11:05:11</td>\n",
       "      <td>MER</td>\n",
       "    </tr>\n",
       "  </tbody>\n",
       "</table>\n",
       "</div>"
      ],
      "text/plain": [
       "         type  traffic_level traffic_road_coverage road_category  \\\n",
       "0  LINESTRING          0.559                  full       primary   \n",
       "1  LINESTRING          0.409                  full       primary   \n",
       "2  LINESTRING          0.409                  full       primary   \n",
       "3  LINESTRING          0.532                  full       primary   \n",
       "4  LINESTRING          0.527                  full       primary   \n",
       "\n",
       "                                         coordinates        date      time  \\\n",
       "0  [[19.424477059181264, -99.12001624703407], [19...  04/03/2024  10:35:26   \n",
       "1  [[19.424477059181264, -99.12001624703407], [19...  04/03/2024  10:04:30   \n",
       "2  [[19.424477059181264, -99.12001624703407], [19...  04/03/2024  11:34:55   \n",
       "3  [[19.424477059181264, -99.12001624703407], [19...  04/03/2024  11:48:24   \n",
       "4  [[19.424477059181264, -99.12001624703407], [19...  04/03/2024  11:05:11   \n",
       "\n",
       "  station  \n",
       "0     MER  \n",
       "1     MER  \n",
       "2     MER  \n",
       "3     MER  \n",
       "4     MER  "
      ]
     },
     "execution_count": 26,
     "metadata": {},
     "output_type": "execute_result"
    }
   ],
   "source": [
    "# Define the bounds for outliers (using IQR method as an example)\n",
    "Q1 = df_traf_MER['traffic_level'].quantile(0.25)\n",
    "Q3 = df_traf_MER['traffic_level'].quantile(0.75)\n",
    "IQR = Q3 - Q1\n",
    "\n",
    "# Define lower and upper bounds for identifying outliers\n",
    "lower_bound = Q1 - 1.5 * IQR\n",
    "upper_bound = Q3 + 1.5 * IQR\n",
    "\n",
    "# Replace outliers with NaN (or you can directly handle it without NaN, but NaN is useful for imputation)\n",
    "df_traf_MER['traffic_level'] = df_traf_MER['traffic_level'].where(\n",
    "    (df_traf_MER['traffic_level'] >= lower_bound) & (df_traf_MER['traffic_level'] <= upper_bound),\n",
    "    other=float('nan')  # Set outliers to NaN for forward fill\n",
    ")\n",
    "\n",
    "# Apply forward fill to fill NaN values (outliers)\n",
    "df_traf_MER['traffic_level'] = df_traf_MER['traffic_level'].ffill()\n",
    "\n",
    "# Display the updated dataframe\n",
    "df_traf_MER.head()\n",
    "\n"
   ]
  },
  {
   "cell_type": "code",
   "execution_count": 27,
   "id": "2b645cd5-babc-4e3f-afc0-487abc4f4e04",
   "metadata": {},
   "outputs": [
    {
     "data": {
      "image/png": "[encoded data removed]",
      "text/plain": [
       "<Figure size 640x480 with 1 Axes>"
      ]
     },
     "metadata": {},
     "output_type": "display_data"
    }
   ],
   "source": [
    "numeric_columns = df_traf_MER.select_dtypes(include=['float64', 'int64']).columns\n",
    "\n",
    "import seaborn as sns \n",
    "import matplotlib.pyplot as plt\n",
    "\n",
    "for col in numeric_columns:\n",
    "   sns.boxplot(x=df_traf_MER[col])\n",
    "   plt.show()"
   ]
  },
  {
   "cell_type": "code",
   "execution_count": 29,
   "id": "19362d59-f1be-4ff9-ad05-550c8e0a013e",
   "metadata": {},
   "outputs": [
    {
     "data": {
      "text/plain": [
       "0       [[19.424477059181264, -99.12001624703407], [19...\n",
       "1       [[19.424477059181264, -99.12001624703407], [19...\n",
       "2       [[19.424477059181264, -99.12001624703407], [19...\n",
       "3       [[19.424477059181264, -99.12001624703407], [19...\n",
       "4       [[19.424477059181264, -99.12001624703407], [19...\n",
       "                              ...                        \n",
       "5889    [[19.424477059181264, -99.12001624703407], [19...\n",
       "5890    [[19.424477059181264, -99.12001624703407], [19...\n",
       "5891    [[19.424477059181264, -99.12001624703407], [19...\n",
       "5892    [[19.424477059181264, -99.12001624703407], [19...\n",
       "5893    [[19.424477059181264, -99.12001624703407], [19...\n",
       "Name: coordinates, Length: 5894, dtype: object"
      ]
     },
     "execution_count": 29,
     "metadata": {},
     "output_type": "execute_result"
    }
   ],
   "source": [
    "df_traf_MER.coordinates"
   ]
  },
  {
   "cell_type": "code",
   "execution_count": 31,
   "id": "2dedea58-fd28-4376-80d2-a47186739b7d",
   "metadata": {},
   "outputs": [
    {
     "name": "stdout",
     "output_type": "stream",
     "text": [
      "[[19.424477059181264, -99.12001624703407], [19.42455041669, -99.12004306912422], [19.42469207256894, -99.12010878324509], [19.424737604815746, -99.12015169858932]]\n"
     ]
    }
   ],
   "source": [
    "# View the first row of the 'coordinates' column\n",
    "print(df_traf_MER['coordinates'][0])  # This will show the full list for row 0\n",
    "\n"
   ]
  },
  {
   "cell_type": "code",
   "execution_count": null,
   "id": "6898c1f3-1f5a-4b07-a252-0d4dd7118371",
   "metadata": {},
   "outputs": [],
   "source": []
  }
 ],
 "metadata": {
  "kernelspec": {
   "display_name": "Python 3 (ipykernel)",
   "language": "python",
   "name": "python3"
  },
  "language_info": {
   "codemirror_mode": {
    "name": "ipython",
    "version": 3
   },
   "file_extension": ".py",
   "mimetype": "text/x-python",
   "name": "python",
   "nbconvert_exporter": "python",
   "pygments_lexer": "ipython3",
   "version": "3.12.3"
  }
 },
 "nbformat": 4,
 "nbformat_minor": 5
}
